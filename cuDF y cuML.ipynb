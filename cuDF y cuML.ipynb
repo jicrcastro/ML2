{
 "cells": [
  {
   "cell_type": "code",
   "execution_count": null,
   "metadata": {},
   "outputs": [],
   "source": [
    "import pandas as pd\n",
    "import cudf\n",
    "import numpy as np\n",
    "import random\n",
    "from cuml.model_selection import train_test_split, GridSearchCV\n",
    "from cuml.neighbors import KNeighborsClassifier\n",
    "from sklearn.metrics import confusion_matrix, accuracy_score, roc_curve, auc\n",
    "import matplotlib.pyplot as plt\n",
    "import seaborn as sns"
   ]
  },
  {
   "cell_type": "code",
   "execution_count": null,
   "metadata": {},
   "outputs": [],
   "source": [
    "#Leer el archivo CSV\n",
    "loan_data_knn = pd.read_csv('loan_data_knn_ML_python.csv')\n",
    "\n",
    "# Establecer la semilla de aleatoriedad\n",
    "np.random.seed(12345)\n",
    "random.seed(12345)"
   ]
  },
  {
   "cell_type": "code",
   "execution_count": null,
   "metadata": {},
   "outputs": [],
   "source": [
    "# Convertir 'repay_fail' a formato categoría\n",
    "loan_data_knn['repay_fail'] = loan_data_knn['repay_fail'].astype('category')\n",
    "\n",
    "# Verificar la clase de 'repay_fail'\n",
    "print(loan_data_knn['repay_fail'].dtype)\n",
    "\n",
    "# Verificar los niveles del factor\n",
    "print(loan_data_knn['repay_fail'].value_counts())"
   ]
  },
  {
   "cell_type": "code",
   "execution_count": null,
   "metadata": {},
   "outputs": [],
   "source": [
    "# Splitting inicial de los datos con muestreo estratificado\n",
    "X = loan_data_knn.drop(columns='repay_fail')\n",
    "y = loan_data_knn['repay_fail']\n",
    "\n",
    "# Convertir DataFrames de pandas a cuDF para utilizar la GPU\n",
    "X_cudf = cudf.DataFrame.from_pandas(X)\n",
    "y_cudf = cudf.Series(y.cat.codes.astype('int32'))  # Convertir a códigos de categoría para cuDF\n",
    "\n",
    "X_train_cudf, X_test_cudf, y_train_cudf, y_test_cudf = train_test_split(X_cudf, y_cudf, test_size=0.3, stratify=y_cudf, random_state=123)\n",
    "\n",
    "# Verificar proporciones\n",
    "print(\"Proporciones en el conjunto de entrenamiento:\")\n",
    "print(y_train_cudf.value_counts(normalize=True).to_pandas())\n",
    "\n",
    "print(\"Proporciones en el conjunto de prueba:\")\n",
    "print(y_test_cudf.value_counts(normalize=True).to_pandas())"
   ]
  },
  {
   "cell_type": "code",
   "execution_count": null,
   "metadata": {},
   "outputs": [],
   "source": [
    "# Verificar tamaños de los conjuntos de entrenamiento y prueba\n",
    "print(\"Tamaño del conjunto de entrenamiento:\", len(X_train_cudf))\n",
    "print(\"Tamaño del conjunto de prueba:\", len(X_test_cudf))\n",
    "\n",
    "# Verificar proporciones de los tamaños\n",
    "total_samples = len(X_cudf)\n",
    "train_proportion = len(X_train_cudf) / total_samples\n",
    "test_proportion = len(X_test_cudf) / total_samples\n",
    "print(\"Proporción de entrenamiento:\", train_proportion)\n",
    "print(\"Proporción de prueba:\", test_proportion)"
   ]
  },
  {
   "cell_type": "code",
   "execution_count": null,
   "metadata": {},
   "outputs": [],
   "source": [
    "# Convertir los datos a NumPy (debido a que GridSearchCV de scikit-learn no soporta CuPy directamente)\n",
    "X_train_numpy = X_train_cudf.to_numpy()\n",
    "X_test_numpy = X_test_cudf.to_numpy()\n",
    "y_train_numpy = y_train_cudf.to_numpy()\n",
    "y_test_numpy = y_test_cudf.to_numpy()"
   ]
  },
  {
   "cell_type": "code",
   "execution_count": null,
   "metadata": {},
   "outputs": [],
   "source": [
    "# Definir el grid de hiperparámetros\n",
    "hyper_grid = {\n",
    "    'n_neighbors': list(range(3, 38, 2)),\n",
    "    'metric': ['minkowski'],\n",
    "    'p': [1, 2, 3]  # Añadir diferentes valores de p para minkowski\n",
    "}\n",
    "\n",
    "# Definir el clasificador KNN\n",
    "knn = KNeighborsClassifier()"
   ]
  },
  {
   "cell_type": "code",
   "execution_count": null,
   "metadata": {},
   "outputs": [],
   "source": [
    "# Definir GridSearchCV\n",
    "grid_search = GridSearchCV(estimator=knn, param_grid=hyper_grid, cv=5, scoring='accuracy')\n",
    "\n",
    "# Ajustar el modelo\n",
    "grid_search.fit(X_train_numpy, y_train_numpy)\n",
    "\n",
    "# Mejor modelo\n",
    "best_model = grid_search.best_estimator_\n",
    "\n",
    "# Imprimir el mejor modelo\n",
    "print(\"Best Model:\", best_model)\n",
    "\n",
    "# Resumen de los resultados de la búsqueda en grilla\n",
    "results = pd.DataFrame(grid_search.cv_results_)\n",
    "\n",
    "# Mostrar los resultados de la búsqueda en grilla\n",
    "results = results[['param_n_neighbors', 'param_metric', 'param_p', 'mean_test_score', 'std_test_score']]\n",
    "results.columns = ['#Neighbors', 'Metric', 'p', 'Mean Accuracy', 'Std Accuracy']\n",
    "print(results)\n",
    "\n",
    "# Graficar resultados en un solo gráfico con diferentes colores para cada valor de p\n",
    "plt.figure(figsize=(10, 6))\n",
    "ps = results['p'].unique()\n",
    "colors = sns.color_palette(\"husl\", len(ps))  # Obtener una paleta de colores\n",
    "\n",
    "for p, color in zip(ps, colors):\n",
    "    subset = results[results['p'] == p]\n",
    "    plt.plot(subset['#Neighbors'], subset['Mean Accuracy'], marker='o', label=f'p = {p}', color=color)\n",
    "\n",
    "plt.title('Resultados de la Validación Cruzada')\n",
    "plt.xlabel('Número de Vecinos')\n",
    "plt.ylabel('Precisión')\n",
    "plt.legend(title='Minkowski p')\n",
    "plt.grid(True)\n",
    "plt.show()"
   ]
  },
  {
   "cell_type": "code",
   "execution_count": null,
   "metadata": {},
   "outputs": [],
   "source": [
    "# Evaluar el mejor modelo\n",
    "y_pred = best_model.predict(X_test_numpy)\n",
    "\n",
    "# Calcular la matriz de confusión y precisión\n",
    "conf_matrix = confusion_matrix(y_test_numpy, y_pred)\n",
    "accuracy = accuracy_score(y_test_numpy, y_pred)\n",
    "\n",
    "print(\"Confusion Matrix:\")\n",
    "print(conf_matrix)\n",
    "print(\"Accuracy:\", accuracy)"
   ]
  },
  {
   "cell_type": "code",
   "execution_count": null,
   "metadata": {},
   "outputs": [],
   "source": [
    "# Curva ROC y AUC\n",
    "y_pred_prob = best_model.predict_proba(X_test_numpy)[:, 1]\n",
    "fpr, tpr, thresholds = roc_curve(y_test_numpy, y_pred_prob)\n",
    "roc_auc = auc(fpr, tpr)\n",
    "\n",
    "plt.figure()\n",
    "plt.plot(fpr, tpr, color='blue', lw=2, label='ROC curve (area = %0.2f)' % roc_auc)\n",
    "plt.plot([0, 1], [0, 1], color='gray', lw=2, linestyle='--')\n",
    "plt.xlim([0.0, 1.0])\n",
    "plt.ylim([0.0, 1.05])\n",
    "plt.xlabel('False Positive Rate')\n",
    "plt.ylabel('True Positive Rate')\n",
    "plt.title('ROC Curve')\n",
    "plt.legend(loc=\"lower right\")\n",
    "plt.show()"
   ]
  }
 ],
 "metadata": {
  "kernelspec": {
   "display_name": "rapids-env-39",
   "language": "python",
   "name": "python3"
  },
  "language_info": {
   "codemirror_mode": {
    "name": "ipython",
    "version": 3
   },
   "file_extension": ".py",
   "mimetype": "text/x-python",
   "name": "python",
   "nbconvert_exporter": "python",
   "pygments_lexer": "ipython3",
   "version": "3.10.14"
  }
 },
 "nbformat": 4,
 "nbformat_minor": 2
}
